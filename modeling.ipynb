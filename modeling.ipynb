{
 "cells": [
  {
   "attachments": {},
   "cell_type": "markdown",
   "metadata": {},
   "source": [
    "### Creation of model based on previously created training and testing data\n",
    "Currently supports only linear models for continuous data. Exports data into \"models\" folder"
   ]
  },
  {
   "cell_type": "code",
   "execution_count": null,
   "metadata": {},
   "outputs": [],
   "source": [
    "%pip install scikit-learn"
   ]
  },
  {
   "cell_type": "code",
   "execution_count": null,
   "metadata": {},
   "outputs": [],
   "source": [
    "\n",
    "import numpy as np\n",
    "from sklearn.model_selection import train_test_split\n",
    "from joblib import dump\n",
    "from sklearn.linear_model import LinearRegression, Ridge, Lasso\n",
    "from sklearn.metrics import accuracy_score, r2_score, mean_squared_error\n",
    "\n",
    "\n",
    "# from sklearn import preprocessing\n",
    "# from sklearn.neighbors import KNeighborsClassifier\n",
    "# from sklearn.ensemble import RandomForestClassifier\n",
    "\n"
   ]
  },
  {
   "cell_type": "code",
   "execution_count": null,
   "metadata": {},
   "outputs": [],
   "source": [
    "data = np.load(\"data/training.npz\", allow_pickle=True)\n",
    "X = data['X']\n",
    "y = data['y']\n",
    "\n",
    "X_train, X_test, y_train, y_test = train_test_split(X, y, test_size=0.33)"
   ]
  },
  {
   "cell_type": "code",
   "execution_count": null,
   "metadata": {},
   "outputs": [],
   "source": [
    "# import matplotlib.pyplot as plt\n",
    "# plt.plot(y_train)\n",
    "# plt.show()\n",
    "# y_train.shape"
   ]
  },
  {
   "cell_type": "code",
   "execution_count": null,
   "metadata": {},
   "outputs": [],
   "source": [
    "# plt.plot(X_train)"
   ]
  },
  {
   "cell_type": "code",
   "execution_count": null,
   "metadata": {},
   "outputs": [],
   "source": [
    "y_train[y_train==0] = 0.1\n",
    "y_test[y_test==0] = 0.1"
   ]
  },
  {
   "cell_type": "code",
   "execution_count": null,
   "metadata": {},
   "outputs": [],
   "source": [
    "z_train = np.log(y_train)\n",
    "z_test = np.log(y_test)"
   ]
  },
  {
   "cell_type": "code",
   "execution_count": null,
   "metadata": {},
   "outputs": [],
   "source": [
    "linreg = LinearRegression()\n",
    "ridge = Ridge()\n",
    "lasso = Lasso()\n",
    "models = [linreg, ridge, lasso]\n",
    "titles = [\"linear regression\", \"ridge\", \"lasso\"]\n",
    "\n",
    "\n",
    "for i in range(len(models)):\n",
    "\n",
    "    models[i].fit(X_train, z_train)\n",
    "    print(f\"{titles[i]} accuracy: {models[i].score(X_test, z_test)}\")\n",
    "\n"
   ]
  },
  {
   "cell_type": "code",
   "execution_count": null,
   "metadata": {},
   "outputs": [],
   "source": [
    "y_pred = np.exp(linreg.predict(X_test))\n",
    "\n",
    "for i in range(len(y_test)):\n",
    "    print(f\"predicted: {y_pred[i]}\")\n",
    "    print(f\"actual: {y_test[i]}\")\n",
    "    print(\"~~\")"
   ]
  },
  {
   "cell_type": "code",
   "execution_count": null,
   "metadata": {},
   "outputs": [],
   "source": [
    "dump(linreg, 'models/linreg_full.joblib')"
   ]
  },
  {
   "cell_type": "code",
   "execution_count": null,
   "metadata": {},
   "outputs": [],
   "source": [
    "# lab = preprocessing.LabelEncoder()\n",
    "# y_train_enc = lab.fit_transform(y_train)\n",
    "# y_test_enc = lab.fit_transform(y_test)"
   ]
  },
  {
   "cell_type": "code",
   "execution_count": null,
   "metadata": {},
   "outputs": [],
   "source": [
    "# rf = RandomForestClassifier()\n",
    "# rf.fit(X_train, y_train_enc)\n",
    "\n",
    "# y_pred_rf = rf.predict(X_test)\n",
    "# r2 = r2_score(y_test, y_pred_rf)\n",
    "# mse = mean_squared_error(y_test, y_pred_rf)\n",
    "# print(f\"r2 score: {r2}\")\n",
    "# print(f\"mean squared error: {mse}\")"
   ]
  },
  {
   "cell_type": "code",
   "execution_count": null,
   "metadata": {},
   "outputs": [],
   "source": [
    "# knn = KNeighborsClassifier(n_neighbors=3)\n",
    "# knn.fit(X_train, y_train_enc)\n",
    "\n",
    "# y_pred_knn = knn.predict(X_test)\n",
    "# r2 = r2_score(y_test, y_pred_knn)\n",
    "# mse = mean_squared_error(y_test, y_pred_knn)\n",
    "# print(f\"r2 score: {r2}\")\n",
    "# print(f\"mean squared error: {mse}\")"
   ]
  }
 ],
 "metadata": {
  "kernelspec": {
   "display_name": "base",
   "language": "python",
   "name": "python3"
  },
  "language_info": {
   "codemirror_mode": {
    "name": "ipython",
    "version": 3
   },
   "file_extension": ".py",
   "mimetype": "text/x-python",
   "name": "python",
   "nbconvert_exporter": "python",
   "pygments_lexer": "ipython3",
   "version": "3.9.13"
  },
  "orig_nbformat": 4
 },
 "nbformat": 4,
 "nbformat_minor": 2
}
