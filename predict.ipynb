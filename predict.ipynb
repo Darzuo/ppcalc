{
 "cells": [
  {
   "attachments": {},
   "cell_type": "markdown",
   "metadata": {},
   "source": [
    "### Notebook for predicting PP from beatmap id, accuracy, and combo"
   ]
  },
  {
   "cell_type": "code",
   "execution_count": 106,
   "metadata": {},
   "outputs": [],
   "source": [
    "import requests\n",
    "from joblib import load\n",
    "import numpy as np\n",
    "from dotenv import load_dotenv\n",
    "import os"
   ]
  },
  {
   "cell_type": "code",
   "execution_count": 107,
   "metadata": {},
   "outputs": [],
   "source": [
    "load_dotenv()\n",
    "api_url_1 = \"https://osu.ppy.sh/api/v1\"\n",
    "api_key = os.getenv('OSU_TOKEN')"
   ]
  },
  {
   "cell_type": "code",
   "execution_count": 108,
   "metadata": {},
   "outputs": [],
   "source": [
    "linreg = load(\"models/linreg_full.joblib\")"
   ]
  },
  {
   "cell_type": "code",
   "execution_count": 109,
   "metadata": {},
   "outputs": [],
   "source": [
    "id = 916631 # Set your beatmap id (not beatmapset id)\n",
    "acc = 95.5 # accuracy of your play\n",
    "combo = 517 # your max combo"
   ]
  },
  {
   "cell_type": "code",
   "execution_count": 110,
   "metadata": {},
   "outputs": [],
   "source": [
    "params = {\"k\": api_key,\n",
    "        \"m\": 0,\n",
    "        \"b\": id}\n",
    "\n",
    "map = requests.get(f\"https://osu.ppy.sh/api/get_beatmaps\", params=params).json()[0]"
   ]
  },
  {
   "cell_type": "code",
   "execution_count": 111,
   "metadata": {},
   "outputs": [],
   "source": [
    "data = [float(map['diff_overall']),\n",
    "        float(map['diff_approach']),\n",
    "        float(map['diff_aim']),\n",
    "        float(map['diff_speed']),\n",
    "        float(map['difficultyrating']),\n",
    "        float(map['bpm']),\n",
    "        float(map['max_combo']),\n",
    "        float(acc/100),\n",
    "        float(int(map['max_combo'])-combo)/float(combo)]\n",
    "\n",
    "X = np.asarray(data).reshape(-1, len(data))"
   ]
  },
  {
   "cell_type": "code",
   "execution_count": 112,
   "metadata": {},
   "outputs": [],
   "source": [
    "pred = np.exp(linreg.predict(X))[0]"
   ]
  },
  {
   "cell_type": "code",
   "execution_count": 113,
   "metadata": {},
   "outputs": [
    {
     "name": "stdout",
     "output_type": "stream",
     "text": [
      "Estimated PP: 139\n"
     ]
    }
   ],
   "source": [
    "print(f\"Estimated PP: {int(pred)}\")"
   ]
  },
  {
   "cell_type": "code",
   "execution_count": null,
   "metadata": {},
   "outputs": [],
   "source": []
  }
 ],
 "metadata": {
  "kernelspec": {
   "display_name": "base",
   "language": "python",
   "name": "python3"
  },
  "language_info": {
   "codemirror_mode": {
    "name": "ipython",
    "version": 3
   },
   "file_extension": ".py",
   "mimetype": "text/x-python",
   "name": "python",
   "nbconvert_exporter": "python",
   "pygments_lexer": "ipython3",
   "version": "3.9.13"
  },
  "orig_nbformat": 4
 },
 "nbformat": 4,
 "nbformat_minor": 2
}
