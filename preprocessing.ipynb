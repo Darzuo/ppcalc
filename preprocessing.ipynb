{
 "cells": [
  {
   "attachments": {},
   "cell_type": "markdown",
   "metadata": {},
   "source": [
    "### Retreival and preprocessing of data\n",
    "* Retrieves osu map and score data \n",
    "* Exports data into \"data/training.npz\". Exported data can be loaded with numpy.load()"
   ]
  },
  {
   "cell_type": "code",
   "execution_count": 22,
   "metadata": {},
   "outputs": [],
   "source": [
    "%pip install requests\n",
    "%pip install pyquery\n",
    "%pip install tqdm"
   ]
  },
  {
   "cell_type": "code",
   "execution_count": null,
   "metadata": {},
   "outputs": [],
   "source": [
    "import requests\n",
    "import numpy as np\n",
    "from tqdm import tqdm\n"
   ]
  },
  {
   "cell_type": "code",
   "execution_count": null,
   "metadata": {},
   "outputs": [],
   "source": [
    "api_url_1 = \"https://osu.ppy.sh/api/v1\"\n",
    "api_url_2 = \"https://osu.ppy.sh/api/v2\"\n",
    "client_id = \"20895\"\n",
    "client_secret = \"mB4gPoINvVP3lypJ7h85fejwrCKQHcsgIoIjYUYz\"\n",
    "api_key = \"d396c636e41fdef810245ce181d66cfd603aa3ea\"\n",
    "mod_val = 72 # Mod value based on Osu v1 api"
   ]
  },
  {
   "cell_type": "code",
   "execution_count": null,
   "metadata": {},
   "outputs": [
    {
     "name": "stdout",
     "output_type": "stream",
     "text": [
      "processing maps from 2021-01-01 to 2021-01-16 15:45:15\n"
     ]
    },
    {
     "name": "stderr",
     "output_type": "stream",
     "text": [
      "100%|██████████| 500/500 [02:40<00:00,  3.11it/s]\n"
     ]
    },
    {
     "name": "stdout",
     "output_type": "stream",
     "text": [
      "processing maps from 2021-01-16 15:45:15 to 2021-02-01 17:43:32\n"
     ]
    },
    {
     "name": "stderr",
     "output_type": "stream",
     "text": [
      "100%|██████████| 500/500 [02:09<00:00,  3.86it/s]\n"
     ]
    },
    {
     "name": "stdout",
     "output_type": "stream",
     "text": [
      "processing maps from 2021-02-01 17:43:32 to 2021-02-18 12:46:12\n"
     ]
    },
    {
     "name": "stderr",
     "output_type": "stream",
     "text": [
      "100%|██████████| 500/500 [02:02<00:00,  4.09it/s]\n"
     ]
    },
    {
     "name": "stdout",
     "output_type": "stream",
     "text": [
      "processing maps from 2021-02-18 12:46:12 to 2021-03-07 04:05:19\n"
     ]
    },
    {
     "name": "stderr",
     "output_type": "stream",
     "text": [
      "100%|██████████| 500/500 [01:50<00:00,  4.54it/s]\n"
     ]
    },
    {
     "name": "stdout",
     "output_type": "stream",
     "text": [
      "processing maps from 2021-03-07 04:05:19 to 2021-03-22 08:26:46\n"
     ]
    },
    {
     "name": "stderr",
     "output_type": "stream",
     "text": [
      "100%|██████████| 500/500 [01:40<00:00,  5.00it/s]\n"
     ]
    },
    {
     "name": "stdout",
     "output_type": "stream",
     "text": [
      "processing maps from 2021-03-22 08:26:46 to 2021-04-08 23:45:53\n"
     ]
    },
    {
     "name": "stderr",
     "output_type": "stream",
     "text": [
      "100%|██████████| 500/500 [01:38<00:00,  5.06it/s]\n"
     ]
    },
    {
     "name": "stdout",
     "output_type": "stream",
     "text": [
      "processing maps from 2021-04-08 23:45:53 to 2021-04-24 03:25:55\n"
     ]
    },
    {
     "name": "stderr",
     "output_type": "stream",
     "text": [
      "100%|██████████| 500/500 [01:25<00:00,  5.83it/s]\n"
     ]
    },
    {
     "name": "stdout",
     "output_type": "stream",
     "text": [
      "processing maps from 2021-04-24 03:25:55 to 2021-05-06 21:26:50\n"
     ]
    },
    {
     "name": "stderr",
     "output_type": "stream",
     "text": [
      "100%|██████████| 500/500 [01:25<00:00,  5.87it/s]\n"
     ]
    },
    {
     "name": "stdout",
     "output_type": "stream",
     "text": [
      "processing maps from 2021-05-06 21:26:50 to 2021-05-22 00:43:16\n"
     ]
    },
    {
     "name": "stderr",
     "output_type": "stream",
     "text": [
      "100%|██████████| 500/500 [01:31<00:00,  5.47it/s]\n"
     ]
    },
    {
     "name": "stdout",
     "output_type": "stream",
     "text": [
      "processing maps from 2021-05-22 00:43:16 to 2021-06-09 18:25:09\n"
     ]
    },
    {
     "name": "stderr",
     "output_type": "stream",
     "text": [
      "100%|██████████| 500/500 [01:26<00:00,  5.80it/s]\n"
     ]
    },
    {
     "name": "stdout",
     "output_type": "stream",
     "text": [
      "processing maps from 2021-06-09 18:25:09 to 2021-06-26 00:23:43\n"
     ]
    },
    {
     "name": "stderr",
     "output_type": "stream",
     "text": [
      "100%|██████████| 500/500 [01:26<00:00,  5.79it/s]\n"
     ]
    },
    {
     "name": "stdout",
     "output_type": "stream",
     "text": [
      "processing maps from 2021-06-26 00:23:43 to 2021-07-11 00:22:07\n"
     ]
    },
    {
     "name": "stderr",
     "output_type": "stream",
     "text": [
      "100%|██████████| 500/500 [01:20<00:00,  6.23it/s]\n"
     ]
    },
    {
     "name": "stdout",
     "output_type": "stream",
     "text": [
      "processing maps from 2021-07-11 00:22:07 to 2021-07-27 03:03:22\n"
     ]
    },
    {
     "name": "stderr",
     "output_type": "stream",
     "text": [
      "100%|██████████| 500/500 [01:21<00:00,  6.17it/s]\n"
     ]
    },
    {
     "name": "stdout",
     "output_type": "stream",
     "text": [
      "processing maps from 2021-07-27 03:03:22 to 2021-08-11 06:41:01\n"
     ]
    },
    {
     "name": "stderr",
     "output_type": "stream",
     "text": [
      "100%|██████████| 500/500 [01:16<00:00,  6.55it/s]\n"
     ]
    },
    {
     "name": "stdout",
     "output_type": "stream",
     "text": [
      "processing maps from 2021-08-11 06:41:01 to 2021-08-26 20:03:55\n"
     ]
    },
    {
     "name": "stderr",
     "output_type": "stream",
     "text": [
      "100%|██████████| 500/500 [01:20<00:00,  6.22it/s]\n"
     ]
    },
    {
     "name": "stdout",
     "output_type": "stream",
     "text": [
      "processing maps from 2021-08-26 20:03:55 to 2021-09-12 14:46:26\n"
     ]
    },
    {
     "name": "stderr",
     "output_type": "stream",
     "text": [
      "100%|██████████| 500/500 [01:16<00:00,  6.58it/s]\n"
     ]
    },
    {
     "name": "stdout",
     "output_type": "stream",
     "text": [
      "processing maps from 2021-09-12 14:46:26 to 2021-10-01 14:04:12\n"
     ]
    },
    {
     "name": "stderr",
     "output_type": "stream",
     "text": [
      "100%|██████████| 500/500 [01:22<00:00,  6.10it/s]\n"
     ]
    },
    {
     "name": "stdout",
     "output_type": "stream",
     "text": [
      "processing maps from 2021-10-01 14:04:12 to 2021-10-16 15:42:47\n"
     ]
    },
    {
     "name": "stderr",
     "output_type": "stream",
     "text": [
      "100%|██████████| 500/500 [01:19<00:00,  6.27it/s]\n"
     ]
    },
    {
     "name": "stdout",
     "output_type": "stream",
     "text": [
      "processing maps from 2021-10-16 15:42:47 to 2021-11-03 01:46:31\n"
     ]
    },
    {
     "name": "stderr",
     "output_type": "stream",
     "text": [
      "100%|██████████| 500/500 [01:15<00:00,  6.59it/s]\n"
     ]
    },
    {
     "name": "stdout",
     "output_type": "stream",
     "text": [
      "processing maps from 2021-11-03 01:46:31 to 2021-11-21 03:40:54\n"
     ]
    },
    {
     "name": "stderr",
     "output_type": "stream",
     "text": [
      "100%|██████████| 500/500 [01:15<00:00,  6.59it/s]\n"
     ]
    },
    {
     "name": "stdout",
     "output_type": "stream",
     "text": [
      "processing maps from 2021-11-21 03:40:54 to 2021-12-05 18:23:31\n"
     ]
    },
    {
     "name": "stderr",
     "output_type": "stream",
     "text": [
      "100%|██████████| 500/500 [01:16<00:00,  6.57it/s]\n"
     ]
    },
    {
     "name": "stdout",
     "output_type": "stream",
     "text": [
      "processing maps from 2021-12-05 18:23:31 to 2021-12-20 23:23:10\n"
     ]
    },
    {
     "name": "stderr",
     "output_type": "stream",
     "text": [
      "100%|██████████| 500/500 [01:21<00:00,  6.12it/s]\n"
     ]
    },
    {
     "name": "stdout",
     "output_type": "stream",
     "text": [
      "processing maps from 2021-12-20 23:23:10 to 2022-01-03 07:01:31\n"
     ]
    },
    {
     "name": "stderr",
     "output_type": "stream",
     "text": [
      "100%|██████████| 500/500 [01:13<00:00,  6.82it/s]\n"
     ]
    },
    {
     "name": "stdout",
     "output_type": "stream",
     "text": [
      "processing maps from 2022-01-03 07:01:31 to 2022-01-16 11:05:07\n"
     ]
    },
    {
     "name": "stderr",
     "output_type": "stream",
     "text": [
      "100%|██████████| 500/500 [01:13<00:00,  6.79it/s]\n"
     ]
    },
    {
     "name": "stdout",
     "output_type": "stream",
     "text": [
      "processing maps from 2022-01-16 11:05:07 to 2022-01-29 04:22:46\n"
     ]
    },
    {
     "name": "stderr",
     "output_type": "stream",
     "text": [
      "100%|██████████| 500/500 [01:16<00:00,  6.52it/s]\n"
     ]
    },
    {
     "name": "stdout",
     "output_type": "stream",
     "text": [
      "processing maps from 2022-01-29 04:22:46 to 2022-02-08 10:22:34\n"
     ]
    },
    {
     "name": "stderr",
     "output_type": "stream",
     "text": [
      "100%|██████████| 500/500 [01:13<00:00,  6.82it/s]\n"
     ]
    },
    {
     "name": "stdout",
     "output_type": "stream",
     "text": [
      "processing maps from 2022-02-08 10:22:34 to 2022-02-19 19:44:03\n"
     ]
    },
    {
     "name": "stderr",
     "output_type": "stream",
     "text": [
      "100%|██████████| 500/500 [01:14<00:00,  6.72it/s]\n"
     ]
    },
    {
     "name": "stdout",
     "output_type": "stream",
     "text": [
      "processing maps from 2022-02-19 19:44:03 to 2022-03-04 08:44:21\n"
     ]
    },
    {
     "name": "stderr",
     "output_type": "stream",
     "text": [
      "100%|██████████| 500/500 [01:12<00:00,  6.89it/s]\n"
     ]
    },
    {
     "name": "stdout",
     "output_type": "stream",
     "text": [
      "processing maps from 2022-03-04 08:44:21 to 2022-03-19 15:04:30\n"
     ]
    },
    {
     "name": "stderr",
     "output_type": "stream",
     "text": [
      "100%|██████████| 500/500 [01:14<00:00,  6.73it/s]\n"
     ]
    },
    {
     "name": "stdout",
     "output_type": "stream",
     "text": [
      "processing maps from 2022-03-19 15:04:30 to 2022-04-04 02:04:51\n"
     ]
    },
    {
     "name": "stderr",
     "output_type": "stream",
     "text": [
      "100%|██████████| 500/500 [01:10<00:00,  7.13it/s]\n"
     ]
    },
    {
     "name": "stdout",
     "output_type": "stream",
     "text": [
      "processing maps from 2022-04-04 02:04:51 to 2022-04-25 14:24:01\n"
     ]
    },
    {
     "name": "stderr",
     "output_type": "stream",
     "text": [
      "100%|██████████| 500/500 [01:14<00:00,  6.68it/s]\n"
     ]
    },
    {
     "name": "stdout",
     "output_type": "stream",
     "text": [
      "processing maps from 2022-04-25 14:24:01 to 2022-05-11 03:41:44\n"
     ]
    },
    {
     "name": "stderr",
     "output_type": "stream",
     "text": [
      "100%|██████████| 500/500 [01:07<00:00,  7.39it/s]\n"
     ]
    },
    {
     "name": "stdout",
     "output_type": "stream",
     "text": [
      "processing maps from 2022-05-11 03:41:44 to 2022-05-26 13:22:02\n"
     ]
    },
    {
     "name": "stderr",
     "output_type": "stream",
     "text": [
      "100%|██████████| 500/500 [01:09<00:00,  7.17it/s]\n"
     ]
    },
    {
     "name": "stdout",
     "output_type": "stream",
     "text": [
      "processing maps from 2022-05-26 13:22:02 to 2022-06-08 12:02:28\n"
     ]
    },
    {
     "name": "stderr",
     "output_type": "stream",
     "text": [
      "100%|██████████| 500/500 [01:06<00:00,  7.49it/s]\n"
     ]
    },
    {
     "name": "stdout",
     "output_type": "stream",
     "text": [
      "processing maps from 2022-06-08 12:02:28 to 2022-06-20 19:44:21\n"
     ]
    },
    {
     "name": "stderr",
     "output_type": "stream",
     "text": [
      "100%|██████████| 500/500 [01:10<00:00,  7.10it/s]\n"
     ]
    },
    {
     "name": "stdout",
     "output_type": "stream",
     "text": [
      "processing maps from 2022-06-20 19:44:21 to 2022-07-06 17:03:22\n"
     ]
    },
    {
     "name": "stderr",
     "output_type": "stream",
     "text": [
      "100%|██████████| 500/500 [01:05<00:00,  7.66it/s]\n"
     ]
    },
    {
     "name": "stdout",
     "output_type": "stream",
     "text": [
      "processing maps from 2022-07-06 17:03:22 to 2022-07-28 16:03:29\n"
     ]
    },
    {
     "name": "stderr",
     "output_type": "stream",
     "text": [
      "100%|██████████| 500/500 [01:09<00:00,  7.19it/s]\n"
     ]
    },
    {
     "name": "stdout",
     "output_type": "stream",
     "text": [
      "processing maps from 2022-07-28 16:03:29 to 2022-08-15 00:24:44\n"
     ]
    },
    {
     "name": "stderr",
     "output_type": "stream",
     "text": [
      "100%|██████████| 500/500 [01:04<00:00,  7.81it/s]\n"
     ]
    },
    {
     "name": "stdout",
     "output_type": "stream",
     "text": [
      "processing maps from 2022-08-15 00:24:44 to 2022-09-03 12:21:53\n"
     ]
    },
    {
     "name": "stderr",
     "output_type": "stream",
     "text": [
      "100%|██████████| 500/500 [01:06<00:00,  7.55it/s]\n"
     ]
    },
    {
     "name": "stdout",
     "output_type": "stream",
     "text": [
      "processing maps from 2022-09-03 12:21:53 to 2022-09-23 19:22:34\n"
     ]
    },
    {
     "name": "stderr",
     "output_type": "stream",
     "text": [
      "100%|██████████| 500/500 [01:03<00:00,  7.86it/s]\n"
     ]
    },
    {
     "name": "stdout",
     "output_type": "stream",
     "text": [
      "processing maps from 2022-09-23 19:22:34 to 2022-10-13 14:06:14\n"
     ]
    },
    {
     "name": "stderr",
     "output_type": "stream",
     "text": [
      "100%|██████████| 500/500 [01:04<00:00,  7.73it/s]\n"
     ]
    },
    {
     "name": "stdout",
     "output_type": "stream",
     "text": [
      "processing maps from 2022-10-13 14:06:14 to 2022-11-01 13:36:55\n"
     ]
    },
    {
     "name": "stderr",
     "output_type": "stream",
     "text": [
      "100%|██████████| 500/500 [01:04<00:00,  7.76it/s]\n"
     ]
    },
    {
     "name": "stdout",
     "output_type": "stream",
     "text": [
      "processing maps from 2022-11-01 13:36:55 to 2022-11-21 21:45:49\n"
     ]
    },
    {
     "name": "stderr",
     "output_type": "stream",
     "text": [
      "100%|██████████| 500/500 [01:04<00:00,  7.78it/s]\n"
     ]
    },
    {
     "name": "stdout",
     "output_type": "stream",
     "text": [
      "processing maps from 2022-11-21 21:45:49 to 2022-12-09 13:26:35\n"
     ]
    },
    {
     "name": "stderr",
     "output_type": "stream",
     "text": [
      "100%|██████████| 500/500 [01:01<00:00,  8.12it/s]\n"
     ]
    },
    {
     "name": "stdout",
     "output_type": "stream",
     "text": [
      "processing maps from 2022-12-09 13:26:35 to 2022-12-23 23:44:15\n"
     ]
    },
    {
     "name": "stderr",
     "output_type": "stream",
     "text": [
      "100%|██████████| 500/500 [01:03<00:00,  7.86it/s]\n"
     ]
    },
    {
     "name": "stdout",
     "output_type": "stream",
     "text": [
      "processing maps from 2022-12-23 23:44:15 to 2023-01-04 03:24:10\n"
     ]
    },
    {
     "name": "stderr",
     "output_type": "stream",
     "text": [
      "100%|██████████| 500/500 [00:58<00:00,  8.53it/s]\n"
     ]
    }
   ],
   "source": [
    "# compile maps from start date to end date (in increments of 500). Then, add beatmap info and pp info to python lists\n",
    "\n",
    "start_date = '2021-01-01'\n",
    "end_date = '2023-01-01'\n",
    "\n",
    "data_list = []\n",
    "pp_list = []\n",
    "\n",
    "while (start_date<end_date):\n",
    "    params = {\"k\": api_key,\n",
    "            \"m\": 0,\n",
    "            \"since\": start_date}\n",
    "\n",
    "    beatmaps = requests.get(f\"https://osu.ppy.sh/api/get_beatmaps\", params=params).json()\n",
    "\n",
    "\n",
    "    next_date = beatmaps[-1]['approved_date']\n",
    "    print(f\"processing maps from {start_date} to {next_date}\")\n",
    "\n",
    "    for map in tqdm(beatmaps):\n",
    "        if map[\"approved\"] != '1': # non ranked maps (no pp available)\n",
    "            continue\n",
    "        id = map['beatmap_id']\n",
    "        params = {\"k\": api_key,\n",
    "            \"b\": id,\n",
    "            \"limit\": 100,\n",
    "            \"mods\": mod_val}\n",
    "        scores = requests.get(f\"https://osu.ppy.sh/api/get_scores\", params=params).json()\n",
    "        if scores is None or len(scores) == 0:\n",
    "            continue\n",
    "        first = scores[0]\n",
    "        last = scores[-1]\n",
    "        \n",
    "        for score in [first, last]:\n",
    "            perf = int(score['count300'])+int(score['countgeki'])\n",
    "            mid = int(score['count100'])+int(score['countkatu'])\n",
    "            low = int(score['count50'])\n",
    "            miss = int(score['countmiss'])\n",
    "            total = perf+mid+low+miss\n",
    "            \n",
    "            diff = (int(map['max_combo'])-int(score['maxcombo']))/float(score['maxcombo'])\n",
    "            acc = float(300*perf+100*mid+50*low)/(300*total)\n",
    "        \n",
    "            single_list = [float(map['diff_overall']),\n",
    "                            float(map['diff_approach']),\n",
    "                            float(map['diff_aim']),\n",
    "                            float(map['diff_speed']),\n",
    "                            float(map['difficultyrating']),\n",
    "                            float(map['bpm']),\n",
    "                            float(map['max_combo']),\n",
    "                            acc,\n",
    "                            diff]\n",
    "            data_list.append(single_list)\n",
    "            pp_list.append(float(score['pp']))\n",
    "    start_date = next_date\n"
   ]
  },
  {
   "cell_type": "code",
   "execution_count": null,
   "metadata": {},
   "outputs": [
    {
     "data": {
      "text/plain": [
       "(38738, 9)"
      ]
     },
     "execution_count": 20,
     "metadata": {},
     "output_type": "execute_result"
    }
   ],
   "source": [
    "data_arr = np.asarray(data_list)\n",
    "pp_arr = np.asarray(pp_list)\n",
    "data_arr.shape"
   ]
  },
  {
   "cell_type": "code",
   "execution_count": null,
   "metadata": {},
   "outputs": [
    {
     "name": "stdout",
     "output_type": "stream",
     "text": [
      "exporting data...\n",
      "done!\n"
     ]
    }
   ],
   "source": [
    "# export data to \"data/training\"\n",
    "print(\"exporting data...\")\n",
    "\n",
    "np.savez_compressed(file=f\"data/training{mod_val}\", X=data_arr, y=pp_arr)\n",
    "\n",
    "print(\"done!\")"
   ]
  }
 ],
 "metadata": {
  "kernelspec": {
   "display_name": "Python 3",
   "language": "python",
   "name": "python3"
  },
  "language_info": {
   "codemirror_mode": {
    "name": "ipython",
    "version": 3
   },
   "file_extension": ".py",
   "mimetype": "text/x-python",
   "name": "python",
   "nbconvert_exporter": "python",
   "pygments_lexer": "ipython3",
   "version": "3.9.13"
  },
  "orig_nbformat": 4
 },
 "nbformat": 4,
 "nbformat_minor": 2
}
