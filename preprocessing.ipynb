{
 "cells": [
  {
   "attachments": {},
   "cell_type": "markdown",
   "metadata": {},
   "source": [
    "### Retreival and preprocessing of data\n",
    "* Retrieves osu map and score data \n",
    "* Exports data into \"data/training.npz\". Exported data can be loaded with numpy.load()"
   ]
  },
  {
   "cell_type": "code",
   "execution_count": 114,
   "metadata": {},
   "outputs": [
    {
     "name": "stdout",
     "output_type": "stream",
     "text": [
      "Requirement already satisfied: requests in c:\\users\\steve\\anaconda3\\lib\\site-packages (2.27.1)\n",
      "Requirement already satisfied: charset-normalizer~=2.0.0 in c:\\users\\steve\\anaconda3\\lib\\site-packages (from requests) (2.0.4)\n",
      "Requirement already satisfied: idna<4,>=2.5 in c:\\users\\steve\\anaconda3\\lib\\site-packages (from requests) (3.3)\n",
      "Requirement already satisfied: certifi>=2017.4.17 in c:\\users\\steve\\anaconda3\\lib\\site-packages (from requests) (2022.9.14)\n",
      "Requirement already satisfied: urllib3<1.27,>=1.21.1 in c:\\users\\steve\\anaconda3\\lib\\site-packages (from requests) (1.26.11)\n",
      "Note: you may need to restart the kernel to use updated packages.\n",
      "Requirement already satisfied: pyquery in c:\\users\\steve\\anaconda3\\lib\\site-packages (2.0.0)\n",
      "Requirement already satisfied: cssselect>=1.2.0 in c:\\users\\steve\\anaconda3\\lib\\site-packages (from pyquery) (1.2.0)\n",
      "Requirement already satisfied: lxml>=2.1 in c:\\users\\steve\\anaconda3\\lib\\site-packages (from pyquery) (4.9.1)\n",
      "Note: you may need to restart the kernel to use updated packages.\n",
      "Requirement already satisfied: tqdm in c:\\users\\steve\\anaconda3\\lib\\site-packages (4.64.1)\n",
      "Requirement already satisfied: colorama in c:\\users\\steve\\anaconda3\\lib\\site-packages (from tqdm) (0.4.5)\n",
      "Note: you may need to restart the kernel to use updated packages.\n"
     ]
    }
   ],
   "source": [
    "%pip install requests\n",
    "%pip install pyquery\n",
    "%pip install tqdm"
   ]
  },
  {
   "cell_type": "code",
   "execution_count": 115,
   "metadata": {},
   "outputs": [],
   "source": [
    "import requests\n",
    "import numpy as np\n",
    "from tqdm import tqdm\n"
   ]
  },
  {
   "cell_type": "code",
   "execution_count": 116,
   "metadata": {},
   "outputs": [],
   "source": [
    "api_url_1 = \"https://osu.ppy.sh/api/v1\"\n",
    "api_url_2 = \"https://osu.ppy.sh/api/v2\"\n",
    "client_id = \"20895\"\n",
    "client_secret = \"mB4gPoINvVP3lypJ7h85fejwrCKQHcsgIoIjYUYz\"\n",
    "api_key = \"d396c636e41fdef810245ce181d66cfd603aa3ea\"\n",
    "mod_val = 1096 # Mod value based on Osu v1 api"
   ]
  },
  {
   "cell_type": "code",
   "execution_count": 1,
   "metadata": {},
   "outputs": [
    {
     "ename": "NameError",
     "evalue": "name 'api_key' is not defined",
     "output_type": "error",
     "traceback": [
      "\u001b[1;31m---------------------------------------------------------------------------\u001b[0m",
      "\u001b[1;31mNameError\u001b[0m                                 Traceback (most recent call last)",
      "\u001b[1;32m~\\AppData\\Local\\Temp\\ipykernel_24460\\3995572808.py\u001b[0m in \u001b[0;36m<module>\u001b[1;34m\u001b[0m\n\u001b[0;32m      8\u001b[0m \u001b[1;33m\u001b[0m\u001b[0m\n\u001b[0;32m      9\u001b[0m \u001b[1;32mwhile\u001b[0m \u001b[1;33m(\u001b[0m\u001b[0mstart_date\u001b[0m\u001b[1;33m<\u001b[0m\u001b[0mend_date\u001b[0m\u001b[1;33m)\u001b[0m\u001b[1;33m:\u001b[0m\u001b[1;33m\u001b[0m\u001b[1;33m\u001b[0m\u001b[0m\n\u001b[1;32m---> 10\u001b[1;33m     params = {\"k\": api_key,\n\u001b[0m\u001b[0;32m     11\u001b[0m             \u001b[1;34m\"m\"\u001b[0m\u001b[1;33m:\u001b[0m \u001b[1;36m0\u001b[0m\u001b[1;33m,\u001b[0m\u001b[1;33m\u001b[0m\u001b[1;33m\u001b[0m\u001b[0m\n\u001b[0;32m     12\u001b[0m             \"since\": start_date}\n",
      "\u001b[1;31mNameError\u001b[0m: name 'api_key' is not defined"
     ]
    }
   ],
   "source": [
    "# compile maps from start date to end date (in increments of 500). Then, add beatmap info and pp info to python lists\n",
    "\n",
    "start_date = '2021-01-01'\n",
    "end_date = '2023-01-01'\n",
    "\n",
    "data_list = []\n",
    "pp_list = []\n",
    "\n",
    "while (start_date<end_date):\n",
    "    params = {\"k\": api_key,\n",
    "            \"m\": 0,\n",
    "            \"since\": start_date}\n",
    "\n",
    "    beatmaps = requests.get(f\"https://osu.ppy.sh/api/get_beatmaps\", params=params).json()\n",
    "\n",
    "\n",
    "    next_date = beatmaps[-1]['approved_date']\n",
    "    print(f\"processing maps from {start_date} to {next_date}\")\n",
    "\n",
    "    for map in tqdm(beatmaps):\n",
    "        if map[\"approved\"] != '1': # non ranked maps (no pp available)\n",
    "            continue\n",
    "        id = map['beatmap_id']\n",
    "        params = {\"k\": api_key,\n",
    "            \"b\": id,\n",
    "            \"limit\": 100,\n",
    "            \"mods\": mod_val}\n",
    "        scores = requests.get(f\"https://osu.ppy.sh/api/get_scores\", params=params).json()\n",
    "        if scores is None or len(scores) == 0:\n",
    "            continue\n",
    "        first = scores[0]\n",
    "        last = scores[-1]\n",
    "        \n",
    "        for score in [first, last]:\n",
    "            perf = int(score['count300'])+int(score['countgeki'])\n",
    "            mid = int(score['count100'])+int(score['countkatu'])\n",
    "            low = int(score['count50'])\n",
    "            miss = int(score['countmiss'])\n",
    "            total = perf+mid+low+miss\n",
    "            \n",
    "            diff = (int(map['max_combo'])-int(score['maxcombo']))/float(score['maxcombo'])\n",
    "            acc = float(300*perf+100*mid+50*low)/(300*total)\n",
    "        \n",
    "            single_list = [float(map['diff_overall']),\n",
    "                            float(map['diff_approach']),\n",
    "                            float(map['diff_aim']),\n",
    "                            float(map['diff_speed']),\n",
    "                            float(map['difficultyrating']),\n",
    "                            float(map['bpm']),\n",
    "                            float(map['max_combo']),\n",
    "                            acc,\n",
    "                            diff]\n",
    "            data_list.append(single_list)\n",
    "            pp_list.append(float(score['pp']))\n",
    "    start_date = next_date\n"
   ]
  },
  {
   "cell_type": "code",
   "execution_count": 118,
   "metadata": {},
   "outputs": [
    {
     "data": {
      "text/plain": [
       "(2546, 9)"
      ]
     },
     "execution_count": 118,
     "metadata": {},
     "output_type": "execute_result"
    }
   ],
   "source": [
    "data_arr = np.asarray(data_list)\n",
    "pp_arr = np.asarray(pp_list)\n",
    "data_arr.shape"
   ]
  },
  {
   "cell_type": "code",
   "execution_count": 119,
   "metadata": {},
   "outputs": [
    {
     "name": "stdout",
     "output_type": "stream",
     "text": [
      "exporting data...\n",
      "done!\n"
     ]
    }
   ],
   "source": [
    "# export data to \"data/training\"\n",
    "print(\"exporting data...\")\n",
    "\n",
    "np.savez_compressed(file=f\"data/training{mod_val}\", X=data_arr, y=pp_arr)\n",
    "\n",
    "print(\"done!\")"
   ]
  }
 ],
 "metadata": {
  "kernelspec": {
   "display_name": "Python 3",
   "language": "python",
   "name": "python3"
  },
  "language_info": {
   "codemirror_mode": {
    "name": "ipython",
    "version": 3
   },
   "file_extension": ".py",
   "mimetype": "text/x-python",
   "name": "python",
   "nbconvert_exporter": "python",
   "pygments_lexer": "ipython3",
   "version": "3.9.13"
  },
  "orig_nbformat": 4
 },
 "nbformat": 4,
 "nbformat_minor": 2
}
