{
 "cells": [
  {
   "attachments": {},
   "cell_type": "markdown",
   "metadata": {},
   "source": [
    "### Retreival and preprocessing of data\n",
    "Exports data into \"data/training.npz\". Exported data can be loaded with numpy.load()"
   ]
  },
  {
   "cell_type": "code",
   "execution_count": null,
   "metadata": {},
   "outputs": [],
   "source": [
    "%pip install requests\n",
    "%pip install pyquery\n",
    "%pip install tqdm"
   ]
  },
  {
   "cell_type": "code",
   "execution_count": null,
   "metadata": {},
   "outputs": [],
   "source": [
    "import requests\n",
    "import numpy as np\n",
    "from tqdm import tqdm\n"
   ]
  },
  {
   "cell_type": "code",
   "execution_count": null,
   "metadata": {},
   "outputs": [],
   "source": [
    "api_url_1 = \"https://osu.ppy.sh/api/v1\"\n",
    "api_url_2 = \"https://osu.ppy.sh/api/v2\"\n",
    "client_id = \"20895\"\n",
    "client_secret = \"mB4gPoINvVP3lypJ7h85fejwrCKQHcsgIoIjYUYz\"\n",
    "api_key = \"d396c636e41fdef810245ce181d66cfd603aa3ea\""
   ]
  },
  {
   "cell_type": "code",
   "execution_count": null,
   "metadata": {},
   "outputs": [],
   "source": [
    "# headers = {\"Accept\": \"application/json\",\n",
    "#            \"Content-Type\": \"application/x-www-form-urlencoded\"}\n",
    "# data = {\"client_id\": client_id,\n",
    "#         \"client_secret\": client_secret,\n",
    "#         \"grant_type\": \"client_credentials\",\n",
    "#         \"scope\": \"public\"}\n",
    "\n",
    "# response = requests.post(\"https://osu.ppy.sh/oauth/token\", headers=headers, data=data)\n",
    "# access_token = response.json()['access_token']"
   ]
  },
  {
   "cell_type": "code",
   "execution_count": null,
   "metadata": {},
   "outputs": [],
   "source": [
    "# compile maps from start date to end date (in increments of 500). Then, add beatmap info and pp info to python lists\n",
    "\n",
    "start_date = '2021-01-01'\n",
    "end_date = '2023-01-01'\n",
    "\n",
    "data_list = []\n",
    "pp_list = []\n",
    "\n",
    "while (start_date<end_date):\n",
    "    params = {\"k\": api_key,\n",
    "            \"m\": 0,\n",
    "            \"since\": start_date}\n",
    "\n",
    "    beatmaps = requests.get(f\"https://osu.ppy.sh/api/get_beatmaps\", params=params).json()\n",
    "\n",
    "\n",
    "    next_date = beatmaps[-1]['approved_date']\n",
    "    print(f\"processing maps from {start_date} to {next_date}\")\n",
    "\n",
    "    for map in tqdm(beatmaps):\n",
    "        if map[\"approved\"] != '1': # non ranked maps (no pp available)\n",
    "            continue\n",
    "        id = map['beatmap_id']\n",
    "        params = {\"k\": api_key,\n",
    "            \"b\": id,\n",
    "            \"limit\": 100,\n",
    "            \"mods\": 0}\n",
    "        scores = requests.get(f\"https://osu.ppy.sh/api/get_scores\", params=params).json()\n",
    "        if scores is None or len(scores) == 0:\n",
    "            continue\n",
    "        first = scores[0]\n",
    "        last = scores[-1]\n",
    "        \n",
    "        for score in [first, last]:\n",
    "            perf = int(score['count300'])+int(score['countgeki'])\n",
    "            mid = int(score['count100'])+int(score['countkatu'])\n",
    "            low = int(score['count50'])\n",
    "            miss = int(score['countmiss'])\n",
    "            total = perf+mid+low+miss\n",
    "            \n",
    "            diff = (int(map['max_combo'])-int(score['maxcombo']))/float(score['maxcombo'])\n",
    "            acc = float(300*perf+100*mid+50*low)/(300*total)\n",
    "        \n",
    "            single_list = [float(map['diff_overall']),\n",
    "                            float(map['diff_approach']),\n",
    "                            float(map['diff_aim']),\n",
    "                            float(map['diff_speed']),\n",
    "                            float(map['difficultyrating']),\n",
    "                            float(map['bpm']),\n",
    "                            float(map['max_combo']),\n",
    "                            acc,\n",
    "                            diff]\n",
    "            data_list.append(single_list)\n",
    "            pp_list.append(float(score['pp']))\n",
    "    start_date = next_date\n"
   ]
  },
  {
   "cell_type": "code",
   "execution_count": null,
   "metadata": {},
   "outputs": [],
   "source": [
    "data_arr = np.asarray(data_list)\n",
    "pp_arr = np.asarray(pp_list)\n",
    "data_arr.shape"
   ]
  },
  {
   "cell_type": "code",
   "execution_count": null,
   "metadata": {},
   "outputs": [],
   "source": [
    "# export data to \"data/training\"\n",
    "print(\"exporting data...\")\n",
    "\n",
    "np.savez_compressed(file=\"data/training\", X=data_arr, y=pp_arr)\n",
    "\n",
    "print(\"done!\")"
   ]
  }
 ],
 "metadata": {
  "kernelspec": {
   "display_name": "Python 3",
   "language": "python",
   "name": "python3"
  },
  "language_info": {
   "codemirror_mode": {
    "name": "ipython",
    "version": 3
   },
   "file_extension": ".py",
   "mimetype": "text/x-python",
   "name": "python",
   "nbconvert_exporter": "python",
   "pygments_lexer": "ipython3",
   "version": "3.9.13"
  },
  "orig_nbformat": 4
 },
 "nbformat": 4,
 "nbformat_minor": 2
}
